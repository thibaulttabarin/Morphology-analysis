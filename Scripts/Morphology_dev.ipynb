{
 "cells": [
  {
   "cell_type": "markdown",
   "id": "98a152cd",
   "metadata": {},
   "source": [
    "# Development for morphology trait extraction\n",
    "\n",
    "This notebook gives example and a platform to develop and visualize extraction on morphological traits\n",
    "The function framework is based on a class \"Traits_class\" define in the same folder.\n",
    "if you modify the \"Traits_class\" reload the module by running the first cell to see the modification appear in the notebook.\n",
    "\n",
    "**Study case:**\n",
    "\n",
    "\n"
   ]
  },
  {
   "cell_type": "code",
   "execution_count": 83,
   "id": "602dc370",
   "metadata": {},
   "outputs": [
    {
     "data": {
      "text/plain": [
       "<module 'Traits_class' from '/users/PAS2136/thibaulttabarin/Morphology-analysis/Scripts/Traits_class.py'>"
      ]
     },
     "execution_count": 83,
     "metadata": {},
     "output_type": "execute_result"
    }
   ],
   "source": [
    "# load what you need\n",
    "import Traits_class as tc\n",
    "import json, sys\n",
    "import matplotlib.pyplot as plt\n",
    "import numpy as np\n",
    "from PIL import Image, ImageDraw, ImageFont\n",
    "import importlib\n",
    "import skimage as ski\n",
    "importlib.reload(tc)"
   ]
  },
  {
   "cell_type": "code",
   "execution_count": 84,
   "id": "e620246b",
   "metadata": {},
   "outputs": [],
   "source": [
    "# load the test image, you can add more test image if you have bug related to specific images.\n",
    "segmented_file = '../Test_Data/INHS_FISH_000742_segmented.png'\n",
    "metadata_file = '../Test_Data/INHS_FISH_000742.json'"
   ]
  },
  {
   "cell_type": "code",
   "execution_count": 85,
   "id": "2289de98",
   "metadata": {},
   "outputs": [],
   "source": [
    "# Create the object segmented image create by the class during initialisation\n",
    "img_seg = tc.segmented_image(segmented_file)\n",
    "\n",
    "# variable create at initialization time\n",
    "measurement = img_seg.measurement\n",
    "landmark = img_seg.landmark\n",
    "presence_matrix = img_seg.presence_matrix\n",
    "img_landmark = img_seg.visualize_landmark()"
   ]
  },
  {
   "cell_type": "markdown",
   "id": "070251e3",
   "metadata": {},
   "source": [
    "## 2 - Explore the output\n",
    "\n",
    "    1- Presence Matrix\n",
    "    2- Landmark\n",
    "    3- Visualize landmark\n",
    "    4- measurement"
   ]
  },
  {
   "cell_type": "code",
   "execution_count": 86,
   "id": "ae9eb407",
   "metadata": {},
   "outputs": [
    {
     "data": {
      "text/plain": [
       "{'dorsal_fin': {'number': 1, 'percentage': 1.0},\n",
       " 'adipos_fin': {'number': 0, 'percentage': 0},\n",
       " 'caudal_fin': {'number': 1, 'percentage': 1.0},\n",
       " 'anal_fin': {'number': 1, 'percentage': 1.0},\n",
       " 'pelvic_fin': {'number': 1, 'percentage': 1.0},\n",
       " 'pectoral_fin': {'number': 1, 'percentage': 1.0},\n",
       " 'head': {'number': 1, 'percentage': 1.0},\n",
       " 'eye': {'number': 1, 'percentage': 1.0},\n",
       " 'caudal_fin_ray': {'number': 0, 'percentage': 0},\n",
       " 'alt_fin_ray': {'number': 0, 'percentage': 0},\n",
       " 'trunk': {'number': 2, 'percentage': 0.992120507069956}}"
      ]
     },
     "execution_count": 86,
     "metadata": {},
     "output_type": "execute_result"
    }
   ],
   "source": [
    "# presence dictionnary\n",
    "presence_matrix"
   ]
  },
  {
   "cell_type": "code",
   "execution_count": 87,
   "id": "b24d03d1",
   "metadata": {},
   "outputs": [
    {
     "data": {
      "text/plain": [
       "{'SL': 586.0034129593445,\n",
       " 'EA': 922,\n",
       " 'HAt': 8437.999999999995,\n",
       " 'HAp': 16034,\n",
       " 'HCL': 'WIP',\n",
       " 'ED': 34.262616074167774,\n",
       " 'HL': 151.64761785138597,\n",
       " 'HD': 158.3161394173064,\n",
       " 'pOD': 32.31098884280702}"
      ]
     },
     "execution_count": 87,
     "metadata": {},
     "output_type": "execute_result"
    }
   ],
   "source": [
    "# measurement dictionnary\n",
    "measurement"
   ]
  },
  {
   "cell_type": "code",
   "execution_count": 88,
   "id": "ffda5440",
   "metadata": {},
   "outputs": [
    {
     "data": {
      "text/plain": [
       "{'1': (148, 36),\n",
       " '2': (66, 148),\n",
       " '3': (21, 301),\n",
       " '4': (106, 566),\n",
       " '5': (112, 606),\n",
       " '6': (150, 622),\n",
       " '7': (203, 592),\n",
       " '8': (200, 562),\n",
       " '9': (242, 478),\n",
       " '10': (279, 305),\n",
       " '11': (217, 169),\n",
       " '12': (162, 187),\n",
       " '13': (224, 138),\n",
       " '14': (136, 66),\n",
       " '15': (134, 96)}"
      ]
     },
     "execution_count": 88,
     "metadata": {},
     "output_type": "execute_result"
    }
   ],
   "source": [
    "# landmark dictionnary\n",
    "landmark"
   ]
  },
  {
   "cell_type": "code",
   "execution_count": 89,
   "id": "8b7d1b1a",
   "metadata": {},
   "outputs": [
    {
     "data": {
      "image/png": "[encoded data removed]",
      "text/plain": [
       "<PIL.Image.Image image mode=RGB size=800x315>"
      ]
     },
     "execution_count": 89,
     "metadata": {},
     "output_type": "execute_result"
    }
   ],
   "source": [
    "# Visualize landmarks \n",
    "img_landmark"
   ]
  },
  {
   "cell_type": "code",
   "execution_count": 57,
   "id": "b92fee15",
   "metadata": {},
   "outputs": [
    {
     "name": "stdout",
     "output_type": "stream",
     "text": [
      "34.262616074167774\n"
     ]
    },
    {
     "data": {
      "text/plain": [
       "17.131308037083887"
      ]
     },
     "execution_count": 57,
     "metadata": {},
     "output_type": "execute_result"
    }
   ],
   "source": [
    "masks = img_seg.mask\n",
    "t = img_seg.clean_trait_region(masks['eye'])\n",
    "print(t.equivalent_diameter_area)\n",
    "img_seg.measure_eye_diameter()"
   ]
  },
  {
   "cell_type": "code",
   "execution_count": 24,
   "id": "f5eea310",
   "metadata": {},
   "outputs": [
    {
     "data": {
      "text/plain": [
       "82724"
      ]
     },
     "execution_count": 24,
     "metadata": {},
     "output_type": "execute_result"
    }
   ],
   "source": [
    "trunk_pro = img_seg.clean_trait_region(masks['trunk'])\n",
    "trunk_pro.perimeter\n",
    "trunk_pro.area"
   ]
  },
  {
   "cell_type": "code",
   "execution_count": 25,
   "id": "add5f243",
   "metadata": {},
   "outputs": [
    {
     "data": {
      "text/plain": [
       "82724"
      ]
     },
     "execution_count": 25,
     "metadata": {},
     "output_type": "execute_result"
    },
    {
     "data": {
      "image/png": "[encoded data removed]",
      "text/plain": [
       "<Figure size 432x288 with 1 Axes>"
      ]
     },
     "metadata": {
      "needs_background": "light"
     },
     "output_type": "display_data"
    }
   ],
   "source": [
    "trunk_pro = img_seg.clean_trait_region(masks['trunk'])\n",
    "trunk_mask = trunk_pro.image\n",
    "pad_mask =np.pad(trunk_mask, ((1, 1), (1,1)), 'constant', constant_values=((0, 0),(0,0)))\n",
    "list_contour = ski.measure.find_contours(trunk_mask)\n",
    "erosion_trunk = ski.morphology.erosion(pad_mask)\n",
    "plt.imshow(pad_mask)\n",
    "np.all(pad_mask == erosion_trunk)\n",
    "sum(sum(pad_mask))"
   ]
  },
  {
   "cell_type": "code",
   "execution_count": 30,
   "id": "d452f502",
   "metadata": {},
   "outputs": [
    {
     "name": "stdout",
     "output_type": "stream",
     "text": [
      "(264, 474)\n",
      "(262, 472)\n",
      "1277.9453095790602\n",
      "1277.9453095790602\n"
     ]
    }
   ],
   "source": [
    "print(pad_mask.shape)\n",
    "print( trunk_mask.shape)\n",
    "print(ski.measure.perimeter(trunk_mask))\n",
    "print(ski.measure.perimeter(pad_mask))"
   ]
  },
  {
   "cell_type": "code",
   "execution_count": 43,
   "id": "5d3ae5d3",
   "metadata": {},
   "outputs": [
    {
     "name": "stdout",
     "output_type": "stream",
     "text": [
      "4\n",
      "1427\n",
      "(1495, 2)\n",
      "1128\n",
      "125136\n"
     ]
    }
   ],
   "source": [
    "contour_1 = ski.measure.find_contours(trunk_mask)\n",
    "print(len(contour_1))\n",
    "print(sum([a.shape[0] for a in contour_1]))\n",
    "\n",
    "contour_2 = ski.measure.find_contours(pad_mask)[0]\n",
    "print(contour_2.shape)\n",
    "\n",
    "contour_ = np.logical_and(pad_mask, np.logical_not(erosion_trunk))\n",
    "print(sum(sum(contour_)))\n",
    "contour_3 = ski.measure.find_contours(contour_)[0]\n",
    "print(sum([a.shape[0] for a in contour_]))"
   ]
  },
  {
   "cell_type": "code",
   "execution_count": 70,
   "id": "ee1e920f",
   "metadata": {},
   "outputs": [
    {
     "data": {
      "text/plain": [
       "[array([[262.5, 145. ],\n",
       "        [262.5, 144. ],\n",
       "        [262.5, 143. ],\n",
       "        ...,\n",
       "        [261.5, 146. ],\n",
       "        [262. , 145.5],\n",
       "        [262.5, 145. ]])]"
      ]
     },
     "execution_count": 70,
     "metadata": {},
     "output_type": "execute_result"
    },
    {
     "data": {
      "image/png": "[encoded data removed]",
      "text/plain": [
       "<Figure size 432x288 with 1 Axes>"
      ]
     },
     "metadata": {
      "needs_background": "light"
     },
     "output_type": "display_data"
    }
   ],
   "source": [
    "contour_ = np.logical_and(pad_mask, np.logical_not(erosion_trunk))\n",
    "plt.imshow(contour_)\n",
    "list_contour = ski.measure.find_contours(contour_)\n",
    "list_contour_2 = ski.measure.find_contours(pad_mask)\n",
    "list_contour_2\n"
   ]
  },
  {
   "cell_type": "code",
   "execution_count": 88,
   "id": "f5abdcdd",
   "metadata": {},
   "outputs": [
    {
     "data": {
      "text/plain": [
       "(1495, 2)"
      ]
     },
     "execution_count": 88,
     "metadata": {},
     "output_type": "execute_result"
    }
   ],
   "source": [
    "a =list_contour_2[0]\n",
    "a.shape"
   ]
  },
  {
   "cell_type": "code",
   "execution_count": 93,
   "id": "a7e0885b",
   "metadata": {},
   "outputs": [
    {
     "data": {
      "text/plain": [
       "1280.7737367037953"
      ]
     },
     "execution_count": 93,
     "metadata": {},
     "output_type": "execute_result"
    }
   ],
   "source": [
    "distance = lambda a,b: ((a[0] - b[0])**2 + (a[1] - b[1])**2)**0.5\n",
    "distance(list_contour_2[0][0,:],list_contour_2[0][1,:])\n",
    "a =list_contour_2[0]\n",
    "list_segment = [distance(a[i,:],a[i+1,:]) for i in range(a.shape[0]-1)]\n",
    "sum(list_segment)"
   ]
  },
  {
   "cell_type": "code",
   "execution_count": 17,
   "id": "84e350d9",
   "metadata": {},
   "outputs": [
    {
     "data": {
      "text/plain": [
       "<matplotlib.image.AxesImage at 0x2b3244b65040>"
      ]
     },
     "execution_count": 17,
     "metadata": {},
     "output_type": "execute_result"
    },
    {
     "data": {
      "image/png": "[encoded data removed]",
      "text/plain": [
       "<Figure size 432x288 with 1 Axes>"
      ]
     },
     "metadata": {
      "needs_background": "light"
     },
     "output_type": "display_data"
    }
   ],
   "source": [
    "plt.imshow(trunk_pro.image)"
   ]
  },
  {
   "cell_type": "code",
   "execution_count": 6,
   "id": "6ee0446b",
   "metadata": {},
   "outputs": [
    {
     "data": {
      "text/plain": [
       "<matplotlib.image.AxesImage at 0x2b1986bee670>"
      ]
     },
     "execution_count": 6,
     "metadata": {},
     "output_type": "execute_result"
    },
    {
     "data": {
      "image/png": "[encoded data removed]",
      "text/plain": [
       "<Figure size 432x288 with 1 Axes>"
      ]
     },
     "metadata": {
      "needs_background": "light"
     },
     "output_type": "display_data"
    }
   ],
   "source": [
    "caudal_fin = img_seg.mask['trunk']\n",
    "\n",
    "plt.imshow(caudal_fin)"
   ]
  },
  {
   "cell_type": "code",
   "execution_count": 13,
   "id": "cf78ee7e",
   "metadata": {},
   "outputs": [
    {
     "data": {
      "text/plain": [
       "<matplotlib.image.AxesImage at 0x2b16bc8d7d90>"
      ]
     },
     "execution_count": 13,
     "metadata": {},
     "output_type": "execute_result"
    },
    {
     "data": {
      "image/png": "[encoded data removed]",
      "text/plain": [
       "<Figure size 432x288 with 1 Axes>"
      ]
     },
     "metadata": {
      "needs_background": "light"
     },
     "output_type": "display_data"
    }
   ],
   "source": [
    "plt.imshow(img_seg.mask['caudal_fin'])"
   ]
  },
  {
   "cell_type": "code",
   "execution_count": 22,
   "id": "cb94b95f",
   "metadata": {},
   "outputs": [],
   "source": [
    "_,_,_,_,center_caudal,new_mask_caudal= img_seg.landmark_generic('caudal_fin')\n",
    "\n",
    "row_caudal = round(center_caudal[0])\n",
    "head_horil_line = new_mask_caudal[row_caudal, :]\n",
    "#head_length = np.count_nonzero( cleaned_mask[:,col_eye]== 1)\n",
    "\n"
   ]
  },
  {
   "cell_type": "code",
   "execution_count": 52,
   "id": "ed0dc8c6",
   "metadata": {},
   "outputs": [],
   "source": [
    "def landmark_5_7(img_seg):\n",
    "    '''\n",
    "    locate the landmark 5 and 7 of the caudal fin. \n",
    "    We split the caudal fin upper and lower part (horizontal line through the middle).\n",
    "    Then, in each case get the mot left point in the half of the caudal fin\n",
    "    '''\n",
    "    _,_,_,_,center_caudal,new_mask_caudal= img_seg.landmark_generic('caudal_fin')\n",
    "    mask_caudal_5 = new_mask_caudal.copy()\n",
    "    mask_caudal_7 = new_mask_caudal.copy()\n",
    "    row_caudal = round(center_caudal[0])\n",
    "\n",
    "    mask_caudal_5[row_caudal:,:] = 0\n",
    "    mask_caudal_7[:row_caudal,:] = 0\n",
    "        \n",
    "    lm_5_7=[]\n",
    "    for temp_mask in [mask_caudal_5,mask_caudal_7]:        \n",
    "        x,y = np.where(temp_mask)\n",
    "        y_front = y.min()\n",
    "        x_front = round(np.mean(np.where(temp_mask[:, y_front,])))\n",
    "        lm_5_7.append((int(x_front),int(y_front)))\n",
    "    return lm_5_7[0], lm_5_7[1]"
   ]
  },
  {
   "cell_type": "code",
   "execution_count": 53,
   "id": "04909223",
   "metadata": {},
   "outputs": [],
   "source": [
    "lm_5, lm_7 = landmark_5_7(img_seg)\n"
   ]
  },
  {
   "cell_type": "code",
   "execution_count": 54,
   "id": "f519df18",
   "metadata": {},
   "outputs": [
    {
     "data": {
      "image/png": "[encoded data removed]",
      "text/plain": [
       "<PIL.Image.Image image mode=RGB size=800x315>"
      ]
     },
     "execution_count": 54,
     "metadata": {},
     "output_type": "execute_result"
    }
   ],
   "source": [
    "img_arr = img_seg.img_arr\n",
    "def visualize_landmark(img_arr,coord):\n",
    "        text = '5'    \n",
    "        \n",
    "        img = Image.fromarray(img_arr)\n",
    "        img1 = ImageDraw.Draw(img)\n",
    "        \n",
    "        #\n",
    "        #fnt = ImageFont.truetype(\"Pillow/Tests/fonts/FreeMono.ttf\", 15)\n",
    "        fnt = ImageFont.load_default()\n",
    "\n",
    "        x,y = coord\n",
    "        xy = [(y-9,x-9),(y+9,x+9)]\n",
    "        img1.ellipse(xy, fill='gray', outline=None, width=1)\n",
    "                \n",
    "        img1.text((y-6, x-6), text, font=fnt, fill='black')\n",
    "            # Display the image created\n",
    "            \n",
    "        return img\n",
    "    \n",
    "visualize_landmark(img_arr,lm_7)"
   ]
  },
  {
   "cell_type": "markdown",
   "id": "98564dff",
   "metadata": {},
   "source": [
    "## Explore, visualize the masks "
   ]
  },
  {
   "cell_type": "code",
   "execution_count": 15,
   "id": "bc0cb5d1",
   "metadata": {},
   "outputs": [
    {
     "data": {
      "text/plain": [
       "(101, 2)"
      ]
     },
     "execution_count": 15,
     "metadata": {},
     "output_type": "execute_result"
    },
    {
     "data": {
      "image/png": "[encoded data removed]",
      "text/plain": [
       "<Figure size 432x288 with 1 Axes>"
      ]
     },
     "metadata": {
      "needs_background": "light"
     },
     "output_type": "display_data"
    }
   ],
   "source": [
    "square_mat = np.zeros((50,100))\n",
    "\n",
    "square_mat[10:40,40:60] = 1\n",
    "plt.imshow(square_mat)\n",
    "\n",
    "\n",
    "find_contour = ski.measure.find_contours(square_mat)\n",
    "find_contour[0].shape"
   ]
  },
  {
   "cell_type": "code",
   "execution_count": 16,
   "id": "64c21649",
   "metadata": {},
   "outputs": [
    {
     "data": {
      "text/plain": [
       "array([[39.5, 59. ],\n",
       "       [39.5, 58. ],\n",
       "       [39.5, 57. ],\n",
       "       [39.5, 56. ],\n",
       "       [39.5, 55. ],\n",
       "       [39.5, 54. ],\n",
       "       [39.5, 53. ],\n",
       "       [39.5, 52. ],\n",
       "       [39.5, 51. ],\n",
       "       [39.5, 50. ],\n",
       "       [39.5, 49. ],\n",
       "       [39.5, 48. ],\n",
       "       [39.5, 47. ],\n",
       "       [39.5, 46. ],\n",
       "       [39.5, 45. ],\n",
       "       [39.5, 44. ],\n",
       "       [39.5, 43. ],\n",
       "       [39.5, 42. ],\n",
       "       [39.5, 41. ],\n",
       "       [39.5, 40. ],\n",
       "       [39. , 39.5],\n",
       "       [38. , 39.5],\n",
       "       [37. , 39.5],\n",
       "       [36. , 39.5],\n",
       "       [35. , 39.5],\n",
       "       [34. , 39.5],\n",
       "       [33. , 39.5],\n",
       "       [32. , 39.5],\n",
       "       [31. , 39.5],\n",
       "       [30. , 39.5],\n",
       "       [29. , 39.5],\n",
       "       [28. , 39.5],\n",
       "       [27. , 39.5],\n",
       "       [26. , 39.5],\n",
       "       [25. , 39.5],\n",
       "       [24. , 39.5],\n",
       "       [23. , 39.5],\n",
       "       [22. , 39.5],\n",
       "       [21. , 39.5],\n",
       "       [20. , 39.5],\n",
       "       [19. , 39.5],\n",
       "       [18. , 39.5],\n",
       "       [17. , 39.5],\n",
       "       [16. , 39.5],\n",
       "       [15. , 39.5],\n",
       "       [14. , 39.5],\n",
       "       [13. , 39.5],\n",
       "       [12. , 39.5],\n",
       "       [11. , 39.5],\n",
       "       [10. , 39.5],\n",
       "       [ 9.5, 40. ],\n",
       "       [ 9.5, 41. ],\n",
       "       [ 9.5, 42. ],\n",
       "       [ 9.5, 43. ],\n",
       "       [ 9.5, 44. ],\n",
       "       [ 9.5, 45. ],\n",
       "       [ 9.5, 46. ],\n",
       "       [ 9.5, 47. ],\n",
       "       [ 9.5, 48. ],\n",
       "       [ 9.5, 49. ],\n",
       "       [ 9.5, 50. ],\n",
       "       [ 9.5, 51. ],\n",
       "       [ 9.5, 52. ],\n",
       "       [ 9.5, 53. ],\n",
       "       [ 9.5, 54. ],\n",
       "       [ 9.5, 55. ],\n",
       "       [ 9.5, 56. ],\n",
       "       [ 9.5, 57. ],\n",
       "       [ 9.5, 58. ],\n",
       "       [ 9.5, 59. ],\n",
       "       [10. , 59.5],\n",
       "       [11. , 59.5],\n",
       "       [12. , 59.5],\n",
       "       [13. , 59.5],\n",
       "       [14. , 59.5],\n",
       "       [15. , 59.5],\n",
       "       [16. , 59.5],\n",
       "       [17. , 59.5],\n",
       "       [18. , 59.5],\n",
       "       [19. , 59.5],\n",
       "       [20. , 59.5],\n",
       "       [21. , 59.5],\n",
       "       [22. , 59.5],\n",
       "       [23. , 59.5],\n",
       "       [24. , 59.5],\n",
       "       [25. , 59.5],\n",
       "       [26. , 59.5],\n",
       "       [27. , 59.5],\n",
       "       [28. , 59.5],\n",
       "       [29. , 59.5],\n",
       "       [30. , 59.5],\n",
       "       [31. , 59.5],\n",
       "       [32. , 59.5],\n",
       "       [33. , 59.5],\n",
       "       [34. , 59.5],\n",
       "       [35. , 59.5],\n",
       "       [36. , 59.5],\n",
       "       [37. , 59.5],\n",
       "       [38. , 59.5],\n",
       "       [39. , 59.5],\n",
       "       [39.5, 59. ]])"
      ]
     },
     "execution_count": 16,
     "metadata": {},
     "output_type": "execute_result"
    }
   ],
   "source": [
    "find_contour[0]"
   ]
  },
  {
   "cell_type": "code",
   "execution_count": 12,
   "id": "f90801f6",
   "metadata": {},
   "outputs": [
    {
     "data": {
      "text/plain": [
       "<matplotlib.image.AxesImage at 0x2b7a3d8b8430>"
      ]
     },
     "execution_count": 12,
     "metadata": {},
     "output_type": "execute_result"
    },
    {
     "data": {
      "image/png": "[encoded data removed]",
      "text/plain": [
       "<Figure size 432x288 with 1 Axes>"
      ]
     },
     "metadata": {
      "needs_background": "light"
     },
     "output_type": "display_data"
    }
   ],
   "source": [
    "erosion_trunk = ski.morphology.erosion(pad_mask)\n",
    "plt.imshow(pad_mask)\n",
    "np.all(pad_mask == erosion_trunk)\n",
    "sum(sum(pad_mask))"
   ]
  }
 ],
 "metadata": {
  "kernelspec": {
   "display_name": "Python (Morphology_env)",
   "language": "python",
   "name": "snakemake"
  },
  "language_info": {
   "codemirror_mode": {
    "name": "ipython",
    "version": 3
   },
   "file_extension": ".py",
   "mimetype": "text/x-python",
   "name": "python",
   "nbconvert_exporter": "python",
   "pygments_lexer": "ipython3",
   "version": "3.8.13"
  }
 },
 "nbformat": 4,
 "nbformat_minor": 5
}
